{
  "nbformat": 4,
  "nbformat_minor": 0,
  "metadata": {
    "colab": {
      "name": "혼공머신_9강_3.ipynb",
      "provenance": [],
      "collapsed_sections": [],
      "authorship_tag": "ABX9TyNqbEFYpU9aSpahPNBaLgEh",
      "include_colab_link": true
    },
    "kernelspec": {
      "name": "python3",
      "display_name": "Python 3"
    },
    "language_info": {
      "name": "python"
    }
  },
  "cells": [
    {
      "cell_type": "markdown",
      "metadata": {
        "id": "view-in-github",
        "colab_type": "text"
      },
      "source": [
        "<a href=\"https://colab.research.google.com/github/mgskko/Data_science_Study-hongongmachine/blob/main/%ED%98%BC%EA%B3%B5%EB%A8%B8%EC%8B%A0_9%EA%B0%95_3.ipynb\" target=\"_parent\"><img src=\"https://colab.research.google.com/assets/colab-badge.svg\" alt=\"Open In Colab\"/></a>"
      ]
    },
    {
      "cell_type": "markdown",
      "source": [
        "LSTM 신경망 훈련하기"
      ],
      "metadata": {
        "id": "4yV-gmk3KSe6"
      }
    },
    {
      "cell_type": "code",
      "execution_count": 1,
      "metadata": {
        "colab": {
          "base_uri": "https://localhost:8080/"
        },
        "id": "WzHJrSspKOMS",
        "outputId": "c3b9b22d-2009-4b3f-9597-0f3ca7feb03f"
      },
      "outputs": [
        {
          "output_type": "stream",
          "name": "stdout",
          "text": [
            "Downloading data from https://storage.googleapis.com/tensorflow/tf-keras-datasets/imdb.npz\n",
            "17465344/17464789 [==============================] - 0s 0us/step\n",
            "17473536/17464789 [==============================] - 0s 0us/step\n"
          ]
        }
      ],
      "source": [
        "\n",
        "from tensorflow.keras.datasets import imdb\n",
        "from sklearn.model_selection import train_test_split\n",
        "\n",
        "(train_input, train_target), (test_input, test_target) = imdb.load_data(num_words=500)\n",
        "\n",
        "train_input, val_input, train_target, val_target = train_test_split(train_input, train_target, test_size=0.2, random_state=42)\n"
      ]
    },
    {
      "cell_type": "code",
      "source": [
        "from tensorflow.keras.preprocessing.sequence import pad_sequences\n",
        "\n",
        "train_seq = pad_sequences(train_input, maxlen=100)\n",
        "val_seq = pad_sequences(val_input, maxlen=100)"
      ],
      "metadata": {
        "id": "q3pbA9RxKUqg"
      },
      "execution_count": 2,
      "outputs": []
    },
    {
      "cell_type": "code",
      "source": [
        "from tensorflow import keras\n",
        "\n",
        "model = keras.Sequential()\n",
        "\n",
        "model.add(keras.layers.Embedding(500, 16, input_length=100))\n",
        "model.add(keras.layers.LSTM(8))\n",
        "model.add(keras.layers.Dense(1, activation='sigmoid'))\n",
        "\n",
        "model.summary()"
      ],
      "metadata": {
        "colab": {
          "base_uri": "https://localhost:8080/"
        },
        "id": "MmzUFpMeKVuf",
        "outputId": "f2c5929e-471d-4110-c42e-ed290d719c36"
      },
      "execution_count": 3,
      "outputs": [
        {
          "output_type": "stream",
          "name": "stdout",
          "text": [
            "Model: \"sequential\"\n",
            "_________________________________________________________________\n",
            " Layer (type)                Output Shape              Param #   \n",
            "=================================================================\n",
            " embedding (Embedding)       (None, 100, 16)           8000      \n",
            "                                                                 \n",
            " lstm (LSTM)                 (None, 8)                 800       \n",
            "                                                                 \n",
            " dense (Dense)               (None, 1)                 9         \n",
            "                                                                 \n",
            "=================================================================\n",
            "Total params: 8,809\n",
            "Trainable params: 8,809\n",
            "Non-trainable params: 0\n",
            "_________________________________________________________________\n"
          ]
        }
      ]
    },
    {
      "cell_type": "code",
      "source": [
        "rmsprop = keras.optimizers.RMSprop(learning_rate=1e-4)\n",
        "\n",
        "model.compile(optimizer=rmsprop, loss='binary_crossentropy', metrics=['accuracy'])\n",
        "\n",
        "checkpoint_cb = keras.callbacks.ModelCheckpoint('best-lstm-model.h5', save_best_only=True)\n",
        "\n",
        "early_stopping_cb = keras.callbacks.EarlyStopping(patience=3, restore_best_weights=True)\n",
        "\n",
        "history = model.fit(train_seq, train_target, epochs=100, batch_size=64,\n",
        "                    validation_data=(val_seq, val_target),\n",
        "                    callbacks=[checkpoint_cb, early_stopping_cb])"
      ],
      "metadata": {
        "colab": {
          "base_uri": "https://localhost:8080/"
        },
        "id": "4v8MukCrKW1m",
        "outputId": "8e77eab5-293f-4167-e93f-9a58c026ca41"
      },
      "execution_count": 4,
      "outputs": [
        {
          "output_type": "stream",
          "name": "stdout",
          "text": [
            "Epoch 1/100\n",
            "313/313 [==============================] - 24s 68ms/step - loss: 0.6927 - accuracy: 0.5306 - val_loss: 0.6921 - val_accuracy: 0.6020\n",
            "Epoch 2/100\n",
            "313/313 [==============================] - 18s 58ms/step - loss: 0.6910 - accuracy: 0.6090 - val_loss: 0.6894 - val_accuracy: 0.6418\n",
            "Epoch 3/100\n",
            "313/313 [==============================] - 19s 61ms/step - loss: 0.6854 - accuracy: 0.6557 - val_loss: 0.6799 - val_accuracy: 0.6678\n",
            "Epoch 4/100\n",
            "313/313 [==============================] - 16s 50ms/step - loss: 0.6591 - accuracy: 0.6964 - val_loss: 0.6326 - val_accuracy: 0.7210\n",
            "Epoch 5/100\n",
            "313/313 [==============================] - 15s 47ms/step - loss: 0.6115 - accuracy: 0.7232 - val_loss: 0.6064 - val_accuracy: 0.7158\n",
            "Epoch 6/100\n",
            "313/313 [==============================] - 13s 42ms/step - loss: 0.5887 - accuracy: 0.7323 - val_loss: 0.5877 - val_accuracy: 0.7226\n",
            "Epoch 7/100\n",
            "313/313 [==============================] - 13s 42ms/step - loss: 0.5684 - accuracy: 0.7466 - val_loss: 0.5678 - val_accuracy: 0.7456\n",
            "Epoch 8/100\n",
            "313/313 [==============================] - 13s 43ms/step - loss: 0.5496 - accuracy: 0.7569 - val_loss: 0.5510 - val_accuracy: 0.7480\n",
            "Epoch 9/100\n",
            "313/313 [==============================] - 13s 43ms/step - loss: 0.5320 - accuracy: 0.7675 - val_loss: 0.5349 - val_accuracy: 0.7558\n",
            "Epoch 10/100\n",
            "313/313 [==============================] - 14s 43ms/step - loss: 0.5149 - accuracy: 0.7749 - val_loss: 0.5186 - val_accuracy: 0.7608\n",
            "Epoch 11/100\n",
            "313/313 [==============================] - 13s 43ms/step - loss: 0.4986 - accuracy: 0.7816 - val_loss: 0.5016 - val_accuracy: 0.7700\n",
            "Epoch 12/100\n",
            "313/313 [==============================] - 14s 45ms/step - loss: 0.4836 - accuracy: 0.7872 - val_loss: 0.4871 - val_accuracy: 0.7756\n",
            "Epoch 13/100\n",
            "313/313 [==============================] - 13s 42ms/step - loss: 0.4703 - accuracy: 0.7936 - val_loss: 0.4765 - val_accuracy: 0.7850\n",
            "Epoch 14/100\n",
            "313/313 [==============================] - 13s 42ms/step - loss: 0.4596 - accuracy: 0.7976 - val_loss: 0.4680 - val_accuracy: 0.7858\n",
            "Epoch 15/100\n",
            "313/313 [==============================] - 14s 44ms/step - loss: 0.4509 - accuracy: 0.8005 - val_loss: 0.4602 - val_accuracy: 0.7926\n",
            "Epoch 16/100\n",
            "313/313 [==============================] - 13s 42ms/step - loss: 0.4438 - accuracy: 0.8048 - val_loss: 0.4541 - val_accuracy: 0.7950\n",
            "Epoch 17/100\n",
            "313/313 [==============================] - 13s 42ms/step - loss: 0.4379 - accuracy: 0.8061 - val_loss: 0.4491 - val_accuracy: 0.7966\n",
            "Epoch 18/100\n",
            "313/313 [==============================] - 13s 42ms/step - loss: 0.4334 - accuracy: 0.8076 - val_loss: 0.4461 - val_accuracy: 0.7964\n",
            "Epoch 19/100\n",
            "313/313 [==============================] - 13s 41ms/step - loss: 0.4290 - accuracy: 0.8094 - val_loss: 0.4444 - val_accuracy: 0.8006\n",
            "Epoch 20/100\n",
            "313/313 [==============================] - 13s 41ms/step - loss: 0.4258 - accuracy: 0.8083 - val_loss: 0.4397 - val_accuracy: 0.8008\n",
            "Epoch 21/100\n",
            "313/313 [==============================] - 13s 41ms/step - loss: 0.4226 - accuracy: 0.8099 - val_loss: 0.4388 - val_accuracy: 0.7954\n",
            "Epoch 22/100\n",
            "313/313 [==============================] - 14s 45ms/step - loss: 0.4200 - accuracy: 0.8103 - val_loss: 0.4360 - val_accuracy: 0.8010\n",
            "Epoch 23/100\n",
            "313/313 [==============================] - 13s 41ms/step - loss: 0.4178 - accuracy: 0.8120 - val_loss: 0.4367 - val_accuracy: 0.8028\n",
            "Epoch 24/100\n",
            "313/313 [==============================] - 13s 42ms/step - loss: 0.4159 - accuracy: 0.8120 - val_loss: 0.4355 - val_accuracy: 0.7958\n",
            "Epoch 25/100\n",
            "313/313 [==============================] - 13s 42ms/step - loss: 0.4143 - accuracy: 0.8120 - val_loss: 0.4342 - val_accuracy: 0.8020\n",
            "Epoch 26/100\n",
            "313/313 [==============================] - 13s 42ms/step - loss: 0.4123 - accuracy: 0.8138 - val_loss: 0.4321 - val_accuracy: 0.7996\n",
            "Epoch 27/100\n",
            "313/313 [==============================] - 13s 41ms/step - loss: 0.4113 - accuracy: 0.8127 - val_loss: 0.4332 - val_accuracy: 0.7956\n",
            "Epoch 28/100\n",
            "313/313 [==============================] - 13s 42ms/step - loss: 0.4101 - accuracy: 0.8127 - val_loss: 0.4314 - val_accuracy: 0.8006\n",
            "Epoch 29/100\n",
            "313/313 [==============================] - 13s 42ms/step - loss: 0.4091 - accuracy: 0.8136 - val_loss: 0.4299 - val_accuracy: 0.7994\n",
            "Epoch 30/100\n",
            "313/313 [==============================] - 14s 44ms/step - loss: 0.4080 - accuracy: 0.8126 - val_loss: 0.4296 - val_accuracy: 0.7984\n",
            "Epoch 31/100\n",
            "313/313 [==============================] - 13s 42ms/step - loss: 0.4072 - accuracy: 0.8142 - val_loss: 0.4294 - val_accuracy: 0.8006\n",
            "Epoch 32/100\n",
            "313/313 [==============================] - 13s 42ms/step - loss: 0.4064 - accuracy: 0.8137 - val_loss: 0.4304 - val_accuracy: 0.7972\n",
            "Epoch 33/100\n",
            "313/313 [==============================] - 14s 46ms/step - loss: 0.4058 - accuracy: 0.8140 - val_loss: 0.4294 - val_accuracy: 0.8058\n",
            "Epoch 34/100\n",
            "313/313 [==============================] - 13s 42ms/step - loss: 0.4050 - accuracy: 0.8151 - val_loss: 0.4301 - val_accuracy: 0.8058\n"
          ]
        }
      ]
    },
    {
      "cell_type": "code",
      "source": [
        "import matplotlib.pyplot as plt\n",
        "\n",
        "plt.plot(history.history['loss'])\n",
        "plt.plot(history.history['val_loss'])\n",
        "plt.xlabel('epoch')\n",
        "plt.ylabel('loss')\n",
        "plt.legend(['train', 'val'])\n",
        "plt.show()"
      ],
      "metadata": {
        "colab": {
          "base_uri": "https://localhost:8080/",
          "height": 279
        },
        "id": "eoPOacNJKYm4",
        "outputId": "04b37be9-32e6-4d7b-b937-b59ae8e4e9d7"
      },
      "execution_count": 5,
      "outputs": [
        {
          "output_type": "display_data",
          "data": {
            "text/plain": [
              "<Figure size 432x288 with 1 Axes>"
            ],
            "image/png": "[encoded data removed]"
          },
          "metadata": {
            "needs_background": "light"
          }
        }
      ]
    },
    {
      "cell_type": "markdown",
      "source": [
        "순환 층에 드롭아웃 적용하기"
      ],
      "metadata": {
        "id": "43NuImDKKcG-"
      }
    },
    {
      "cell_type": "code",
      "source": [
        "model2 = keras.Sequential()\n",
        "\n",
        "model2.add(keras.layers.Embedding(500, 16, input_length=100))\n",
        "model2.add(keras.layers.LSTM(8, dropout=0.3))\n",
        "model2.add(keras.layers.Dense(1, activation='sigmoid'))"
      ],
      "metadata": {
        "id": "LjtRnCaPKbBD"
      },
      "execution_count": 6,
      "outputs": []
    },
    {
      "cell_type": "code",
      "source": [
        "rmsprop = keras.optimizers.RMSprop(learning_rate=1e-4)\n",
        "model2.compile(optimizer=rmsprop, loss='binary_crossentropy', \n",
        "               metrics=['accuracy'])\n",
        "\n",
        "checkpoint_cb = keras.callbacks.ModelCheckpoint('best-dropout-model.h5', \n",
        "                                                save_best_only=True)\n",
        "early_stopping_cb = keras.callbacks.EarlyStopping(patience=3,\n",
        "                                                  restore_best_weights=True)\n",
        "\n",
        "history = model2.fit(train_seq, train_target, epochs=100, batch_size=64,\n",
        "                     validation_data=(val_seq, val_target),\n",
        "                     callbacks=[checkpoint_cb, early_stopping_cb])"
      ],
      "metadata": {
        "colab": {
          "base_uri": "https://localhost:8080/"
        },
        "id": "4BBFBILYKggX",
        "outputId": "0047b589-a98b-4ede-8c40-04fd49b6981e"
      },
      "execution_count": 7,
      "outputs": [
        {
          "output_type": "stream",
          "name": "stdout",
          "text": [
            "Epoch 1/100\n",
            "313/313 [==============================] - 16s 44ms/step - loss: 0.6924 - accuracy: 0.5433 - val_loss: 0.6913 - val_accuracy: 0.6108\n",
            "Epoch 2/100\n",
            "313/313 [==============================] - 13s 43ms/step - loss: 0.6888 - accuracy: 0.6261 - val_loss: 0.6835 - val_accuracy: 0.6358\n",
            "Epoch 3/100\n",
            "313/313 [==============================] - 13s 43ms/step - loss: 0.6620 - accuracy: 0.6391 - val_loss: 0.6307 - val_accuracy: 0.7004\n",
            "Epoch 4/100\n",
            "313/313 [==============================] - 13s 43ms/step - loss: 0.6195 - accuracy: 0.7165 - val_loss: 0.6037 - val_accuracy: 0.7268\n",
            "Epoch 5/100\n",
            "313/313 [==============================] - 13s 43ms/step - loss: 0.6004 - accuracy: 0.7262 - val_loss: 0.5874 - val_accuracy: 0.7428\n",
            "Epoch 6/100\n",
            "313/313 [==============================] - 13s 43ms/step - loss: 0.5823 - accuracy: 0.7363 - val_loss: 0.5714 - val_accuracy: 0.7510\n",
            "Epoch 7/100\n",
            "313/313 [==============================] - 14s 46ms/step - loss: 0.5656 - accuracy: 0.7454 - val_loss: 0.5549 - val_accuracy: 0.7520\n",
            "Epoch 8/100\n",
            "313/313 [==============================] - 13s 43ms/step - loss: 0.5479 - accuracy: 0.7524 - val_loss: 0.5387 - val_accuracy: 0.7560\n",
            "Epoch 9/100\n",
            "313/313 [==============================] - 13s 43ms/step - loss: 0.5292 - accuracy: 0.7611 - val_loss: 0.5242 - val_accuracy: 0.7640\n",
            "Epoch 10/100\n",
            "313/313 [==============================] - 14s 43ms/step - loss: 0.5129 - accuracy: 0.7723 - val_loss: 0.5071 - val_accuracy: 0.7674\n",
            "Epoch 11/100\n",
            "313/313 [==============================] - 13s 43ms/step - loss: 0.4999 - accuracy: 0.7774 - val_loss: 0.4949 - val_accuracy: 0.7776\n",
            "Epoch 12/100\n",
            "313/313 [==============================] - 13s 43ms/step - loss: 0.4877 - accuracy: 0.7842 - val_loss: 0.4878 - val_accuracy: 0.7804\n",
            "Epoch 13/100\n",
            "313/313 [==============================] - 13s 43ms/step - loss: 0.4787 - accuracy: 0.7885 - val_loss: 0.4773 - val_accuracy: 0.7908\n",
            "Epoch 14/100\n",
            "313/313 [==============================] - 13s 43ms/step - loss: 0.4706 - accuracy: 0.7918 - val_loss: 0.4706 - val_accuracy: 0.7940\n",
            "Epoch 15/100\n",
            "313/313 [==============================] - 13s 43ms/step - loss: 0.4631 - accuracy: 0.7954 - val_loss: 0.4660 - val_accuracy: 0.7932\n",
            "Epoch 16/100\n",
            "313/313 [==============================] - 14s 43ms/step - loss: 0.4568 - accuracy: 0.7973 - val_loss: 0.4599 - val_accuracy: 0.7966\n",
            "Epoch 17/100\n",
            "313/313 [==============================] - 14s 46ms/step - loss: 0.4530 - accuracy: 0.7973 - val_loss: 0.4551 - val_accuracy: 0.7998\n",
            "Epoch 18/100\n",
            "313/313 [==============================] - 13s 43ms/step - loss: 0.4466 - accuracy: 0.8001 - val_loss: 0.4527 - val_accuracy: 0.7960\n",
            "Epoch 19/100\n",
            "313/313 [==============================] - 14s 43ms/step - loss: 0.4433 - accuracy: 0.8018 - val_loss: 0.4480 - val_accuracy: 0.8006\n",
            "Epoch 20/100\n",
            "313/313 [==============================] - 14s 43ms/step - loss: 0.4402 - accuracy: 0.8030 - val_loss: 0.4472 - val_accuracy: 0.7974\n",
            "Epoch 21/100\n",
            "313/313 [==============================] - 14s 44ms/step - loss: 0.4363 - accuracy: 0.8027 - val_loss: 0.4430 - val_accuracy: 0.8002\n",
            "Epoch 22/100\n",
            "313/313 [==============================] - 14s 43ms/step - loss: 0.4343 - accuracy: 0.8044 - val_loss: 0.4413 - val_accuracy: 0.7970\n",
            "Epoch 23/100\n",
            "313/313 [==============================] - 14s 43ms/step - loss: 0.4321 - accuracy: 0.8038 - val_loss: 0.4387 - val_accuracy: 0.8014\n",
            "Epoch 24/100\n",
            "313/313 [==============================] - 14s 44ms/step - loss: 0.4286 - accuracy: 0.8065 - val_loss: 0.4405 - val_accuracy: 0.7966\n",
            "Epoch 25/100\n",
            "313/313 [==============================] - 14s 44ms/step - loss: 0.4264 - accuracy: 0.8073 - val_loss: 0.4368 - val_accuracy: 0.7974\n",
            "Epoch 26/100\n",
            "313/313 [==============================] - 14s 44ms/step - loss: 0.4249 - accuracy: 0.8040 - val_loss: 0.4381 - val_accuracy: 0.7960\n",
            "Epoch 27/100\n",
            "313/313 [==============================] - 14s 46ms/step - loss: 0.4247 - accuracy: 0.8069 - val_loss: 0.4338 - val_accuracy: 0.8030\n",
            "Epoch 28/100\n",
            "313/313 [==============================] - 14s 43ms/step - loss: 0.4223 - accuracy: 0.8056 - val_loss: 0.4343 - val_accuracy: 0.7984\n",
            "Epoch 29/100\n",
            "313/313 [==============================] - 14s 44ms/step - loss: 0.4210 - accuracy: 0.8059 - val_loss: 0.4332 - val_accuracy: 0.7988\n",
            "Epoch 30/100\n",
            "313/313 [==============================] - 14s 44ms/step - loss: 0.4201 - accuracy: 0.8086 - val_loss: 0.4322 - val_accuracy: 0.8008\n",
            "Epoch 31/100\n",
            "313/313 [==============================] - 14s 44ms/step - loss: 0.4191 - accuracy: 0.8087 - val_loss: 0.4321 - val_accuracy: 0.8044\n",
            "Epoch 32/100\n",
            "313/313 [==============================] - 14s 43ms/step - loss: 0.4194 - accuracy: 0.8070 - val_loss: 0.4326 - val_accuracy: 0.8022\n",
            "Epoch 33/100\n",
            "313/313 [==============================] - 14s 43ms/step - loss: 0.4173 - accuracy: 0.8087 - val_loss: 0.4315 - val_accuracy: 0.8026\n",
            "Epoch 34/100\n",
            "313/313 [==============================] - 14s 44ms/step - loss: 0.4158 - accuracy: 0.8098 - val_loss: 0.4322 - val_accuracy: 0.8020\n",
            "Epoch 35/100\n",
            "313/313 [==============================] - 14s 44ms/step - loss: 0.4155 - accuracy: 0.8116 - val_loss: 0.4304 - val_accuracy: 0.8038\n",
            "Epoch 36/100\n",
            "313/313 [==============================] - 14s 44ms/step - loss: 0.4174 - accuracy: 0.8072 - val_loss: 0.4306 - val_accuracy: 0.8032\n",
            "Epoch 37/100\n",
            "313/313 [==============================] - 15s 49ms/step - loss: 0.4162 - accuracy: 0.8106 - val_loss: 0.4297 - val_accuracy: 0.8026\n",
            "Epoch 38/100\n",
            "313/313 [==============================] - 14s 43ms/step - loss: 0.4141 - accuracy: 0.8112 - val_loss: 0.4311 - val_accuracy: 0.8050\n",
            "Epoch 39/100\n",
            "313/313 [==============================] - 14s 43ms/step - loss: 0.4149 - accuracy: 0.8102 - val_loss: 0.4293 - val_accuracy: 0.8016\n",
            "Epoch 40/100\n",
            "313/313 [==============================] - 14s 44ms/step - loss: 0.4138 - accuracy: 0.8110 - val_loss: 0.4304 - val_accuracy: 0.8048\n",
            "Epoch 41/100\n",
            "313/313 [==============================] - 14s 44ms/step - loss: 0.4146 - accuracy: 0.8106 - val_loss: 0.4304 - val_accuracy: 0.8050\n",
            "Epoch 42/100\n",
            "313/313 [==============================] - 14s 44ms/step - loss: 0.4128 - accuracy: 0.8099 - val_loss: 0.4293 - val_accuracy: 0.8046\n",
            "Epoch 43/100\n",
            "313/313 [==============================] - 14s 44ms/step - loss: 0.4115 - accuracy: 0.8134 - val_loss: 0.4295 - val_accuracy: 0.8036\n",
            "Epoch 44/100\n",
            "313/313 [==============================] - 14s 44ms/step - loss: 0.4147 - accuracy: 0.8097 - val_loss: 0.4297 - val_accuracy: 0.8032\n",
            "Epoch 45/100\n",
            "313/313 [==============================] - 14s 43ms/step - loss: 0.4121 - accuracy: 0.8098 - val_loss: 0.4301 - val_accuracy: 0.8042\n"
          ]
        }
      ]
    },
    {
      "cell_type": "code",
      "source": [
        "plt.plot(history.history['loss'])\n",
        "plt.plot(history.history['val_loss'])\n",
        "plt.xlabel('epoch')\n",
        "plt.ylabel('loss')\n",
        "plt.legend(['train', 'val'])\n",
        "plt.show()\n"
      ],
      "metadata": {
        "colab": {
          "base_uri": "https://localhost:8080/",
          "height": 279
        },
        "id": "Iq9Hyao1Kg-k",
        "outputId": "c4848c2c-3eee-4c7a-c737-b2ecd03e31a6"
      },
      "execution_count": 8,
      "outputs": [
        {
          "output_type": "display_data",
          "data": {
            "text/plain": [
              "<Figure size 432x288 with 1 Axes>"
            ],
            "image/png": "[encoded data removed]"
          },
          "metadata": {
            "needs_background": "light"
          }
        }
      ]
    },
    {
      "cell_type": "markdown",
      "source": [
        "2개의 층을 연결하기"
      ],
      "metadata": {
        "id": "JOLWl2Z8KjaB"
      }
    },
    {
      "cell_type": "code",
      "source": [
        "model3 = keras.Sequential()\n",
        "\n",
        "model3.add(keras.layers.Embedding(500, 16, input_length=100))\n",
        "model3.add(keras.layers.LSTM(8, dropout=0.3, return_sequences=True))\n",
        "model3.add(keras.layers.LSTM(8, dropout=0.3))\n",
        "model3.add(keras.layers.Dense(1, activation='sigmoid'))\n",
        "\n",
        "model3.summary()"
      ],
      "metadata": {
        "colab": {
          "base_uri": "https://localhost:8080/"
        },
        "id": "mnAEBg58KiSQ",
        "outputId": "0f767b53-c933-4bc2-eef6-75d90ed36e28"
      },
      "execution_count": 9,
      "outputs": [
        {
          "output_type": "stream",
          "name": "stdout",
          "text": [
            "Model: \"sequential_2\"\n",
            "_________________________________________________________________\n",
            " Layer (type)                Output Shape              Param #   \n",
            "=================================================================\n",
            " embedding_2 (Embedding)     (None, 100, 16)           8000      \n",
            "                                                                 \n",
            " lstm_2 (LSTM)               (None, 100, 8)            800       \n",
            "                                                                 \n",
            " lstm_3 (LSTM)               (None, 8)                 544       \n",
            "                                                                 \n",
            " dense_2 (Dense)             (None, 1)                 9         \n",
            "                                                                 \n",
            "=================================================================\n",
            "Total params: 9,353\n",
            "Trainable params: 9,353\n",
            "Non-trainable params: 0\n",
            "_________________________________________________________________\n"
          ]
        }
      ]
    },
    {
      "cell_type": "code",
      "source": [
        "rmsprop = keras.optimizers.RMSprop(learning_rate=1e-4)\n",
        "model3.compile(optimizer=rmsprop, loss='binary_crossentropy', \n",
        "               metrics=['accuracy'])\n",
        "\n",
        "checkpoint_cb = keras.callbacks.ModelCheckpoint('best-2rnn-model.h5', \n",
        "                                                save_best_only=True)\n",
        "early_stopping_cb = keras.callbacks.EarlyStopping(patience=3,\n",
        "                                                  restore_best_weights=True)\n",
        "\n",
        "history = model3.fit(train_seq, train_target, epochs=100, batch_size=64,\n",
        "                     validation_data=(val_seq, val_target),\n",
        "                     callbacks=[checkpoint_cb, early_stopping_cb])"
      ],
      "metadata": {
        "colab": {
          "base_uri": "https://localhost:8080/"
        },
        "id": "2xNXewssKk7V",
        "outputId": "7e0ccbb6-305c-4f71-a868-9e9ed3c087b3"
      },
      "execution_count": 10,
      "outputs": [
        {
          "output_type": "stream",
          "name": "stdout",
          "text": [
            "Epoch 1/100\n",
            "313/313 [==============================] - 32s 88ms/step - loss: 0.6921 - accuracy: 0.5537 - val_loss: 0.6912 - val_accuracy: 0.5518\n",
            "Epoch 2/100\n",
            "313/313 [==============================] - 26s 82ms/step - loss: 0.6867 - accuracy: 0.6083 - val_loss: 0.6799 - val_accuracy: 0.6602\n",
            "Epoch 3/100\n",
            "313/313 [==============================] - 26s 82ms/step - loss: 0.6538 - accuracy: 0.6743 - val_loss: 0.6151 - val_accuracy: 0.6924\n",
            "Epoch 4/100\n",
            "313/313 [==============================] - 26s 82ms/step - loss: 0.5782 - accuracy: 0.7171 - val_loss: 0.5612 - val_accuracy: 0.7256\n",
            "Epoch 5/100\n",
            "313/313 [==============================] - 26s 82ms/step - loss: 0.5466 - accuracy: 0.7346 - val_loss: 0.5361 - val_accuracy: 0.7424\n",
            "Epoch 6/100\n",
            "313/313 [==============================] - 27s 86ms/step - loss: 0.5268 - accuracy: 0.7514 - val_loss: 0.5229 - val_accuracy: 0.7508\n",
            "Epoch 7/100\n",
            "313/313 [==============================] - 26s 83ms/step - loss: 0.5114 - accuracy: 0.7603 - val_loss: 0.5061 - val_accuracy: 0.7600\n",
            "Epoch 8/100\n",
            "313/313 [==============================] - 26s 83ms/step - loss: 0.4975 - accuracy: 0.7670 - val_loss: 0.4912 - val_accuracy: 0.7674\n",
            "Epoch 9/100\n",
            "313/313 [==============================] - 26s 82ms/step - loss: 0.4876 - accuracy: 0.7768 - val_loss: 0.4809 - val_accuracy: 0.7732\n",
            "Epoch 10/100\n",
            "313/313 [==============================] - 26s 82ms/step - loss: 0.4778 - accuracy: 0.7786 - val_loss: 0.4747 - val_accuracy: 0.7782\n",
            "Epoch 11/100\n",
            "313/313 [==============================] - 27s 85ms/step - loss: 0.4706 - accuracy: 0.7822 - val_loss: 0.4717 - val_accuracy: 0.7800\n",
            "Epoch 12/100\n",
            "313/313 [==============================] - 26s 83ms/step - loss: 0.4696 - accuracy: 0.7844 - val_loss: 0.4656 - val_accuracy: 0.7832\n",
            "Epoch 13/100\n",
            "313/313 [==============================] - 26s 82ms/step - loss: 0.4590 - accuracy: 0.7911 - val_loss: 0.4611 - val_accuracy: 0.7862\n",
            "Epoch 14/100\n",
            "313/313 [==============================] - 26s 83ms/step - loss: 0.4567 - accuracy: 0.7907 - val_loss: 0.4612 - val_accuracy: 0.7844\n",
            "Epoch 15/100\n",
            "313/313 [==============================] - 26s 82ms/step - loss: 0.4535 - accuracy: 0.7902 - val_loss: 0.4549 - val_accuracy: 0.7892\n",
            "Epoch 16/100\n",
            "313/313 [==============================] - 26s 83ms/step - loss: 0.4504 - accuracy: 0.7936 - val_loss: 0.4535 - val_accuracy: 0.7890\n",
            "Epoch 17/100\n",
            "313/313 [==============================] - 27s 86ms/step - loss: 0.4469 - accuracy: 0.7961 - val_loss: 0.4524 - val_accuracy: 0.7892\n",
            "Epoch 18/100\n",
            "313/313 [==============================] - 26s 83ms/step - loss: 0.4451 - accuracy: 0.7959 - val_loss: 0.4656 - val_accuracy: 0.7790\n",
            "Epoch 19/100\n",
            "313/313 [==============================] - 26s 83ms/step - loss: 0.4453 - accuracy: 0.7936 - val_loss: 0.4481 - val_accuracy: 0.7930\n",
            "Epoch 20/100\n",
            "313/313 [==============================] - 26s 83ms/step - loss: 0.4400 - accuracy: 0.7979 - val_loss: 0.4489 - val_accuracy: 0.7910\n",
            "Epoch 21/100\n",
            "313/313 [==============================] - 26s 83ms/step - loss: 0.4415 - accuracy: 0.7985 - val_loss: 0.4450 - val_accuracy: 0.7938\n",
            "Epoch 22/100\n",
            "313/313 [==============================] - 27s 85ms/step - loss: 0.4389 - accuracy: 0.7976 - val_loss: 0.4442 - val_accuracy: 0.7944\n",
            "Epoch 23/100\n",
            "313/313 [==============================] - 26s 82ms/step - loss: 0.4366 - accuracy: 0.8023 - val_loss: 0.4444 - val_accuracy: 0.7914\n",
            "Epoch 24/100\n",
            "313/313 [==============================] - 26s 84ms/step - loss: 0.4356 - accuracy: 0.7998 - val_loss: 0.4417 - val_accuracy: 0.7960\n",
            "Epoch 25/100\n",
            "313/313 [==============================] - 26s 82ms/step - loss: 0.4341 - accuracy: 0.7991 - val_loss: 0.4426 - val_accuracy: 0.7960\n",
            "Epoch 26/100\n",
            "313/313 [==============================] - 26s 82ms/step - loss: 0.4327 - accuracy: 0.8008 - val_loss: 0.4407 - val_accuracy: 0.7956\n",
            "Epoch 27/100\n",
            "313/313 [==============================] - 26s 83ms/step - loss: 0.4299 - accuracy: 0.8028 - val_loss: 0.4393 - val_accuracy: 0.7992\n",
            "Epoch 28/100\n",
            "313/313 [==============================] - 27s 85ms/step - loss: 0.4299 - accuracy: 0.8014 - val_loss: 0.4390 - val_accuracy: 0.7980\n",
            "Epoch 29/100\n",
            "313/313 [==============================] - 26s 83ms/step - loss: 0.4279 - accuracy: 0.8041 - val_loss: 0.4385 - val_accuracy: 0.7996\n",
            "Epoch 30/100\n",
            "313/313 [==============================] - 26s 82ms/step - loss: 0.4254 - accuracy: 0.8058 - val_loss: 0.4374 - val_accuracy: 0.7962\n",
            "Epoch 31/100\n",
            "313/313 [==============================] - 25s 81ms/step - loss: 0.4251 - accuracy: 0.8039 - val_loss: 0.4379 - val_accuracy: 0.8002\n",
            "Epoch 32/100\n",
            "313/313 [==============================] - 25s 81ms/step - loss: 0.4241 - accuracy: 0.8063 - val_loss: 0.4360 - val_accuracy: 0.7976\n",
            "Epoch 33/100\n",
            "313/313 [==============================] - 26s 83ms/step - loss: 0.4235 - accuracy: 0.8084 - val_loss: 0.4397 - val_accuracy: 0.7928\n",
            "Epoch 34/100\n",
            "313/313 [==============================] - 26s 83ms/step - loss: 0.4198 - accuracy: 0.8059 - val_loss: 0.4373 - val_accuracy: 0.8000\n",
            "Epoch 35/100\n",
            "313/313 [==============================] - 26s 83ms/step - loss: 0.4203 - accuracy: 0.8080 - val_loss: 0.4356 - val_accuracy: 0.7980\n",
            "Epoch 36/100\n",
            "313/313 [==============================] - 26s 84ms/step - loss: 0.4199 - accuracy: 0.8085 - val_loss: 0.4349 - val_accuracy: 0.8006\n",
            "Epoch 37/100\n",
            "313/313 [==============================] - 26s 83ms/step - loss: 0.4190 - accuracy: 0.8083 - val_loss: 0.4350 - val_accuracy: 0.8014\n",
            "Epoch 38/100\n",
            "313/313 [==============================] - 27s 85ms/step - loss: 0.4188 - accuracy: 0.8097 - val_loss: 0.4343 - val_accuracy: 0.8016\n",
            "Epoch 39/100\n",
            "313/313 [==============================] - 26s 84ms/step - loss: 0.4187 - accuracy: 0.8086 - val_loss: 0.4339 - val_accuracy: 0.8008\n",
            "Epoch 40/100\n",
            "313/313 [==============================] - 26s 83ms/step - loss: 0.4175 - accuracy: 0.8120 - val_loss: 0.4336 - val_accuracy: 0.8026\n",
            "Epoch 41/100\n",
            "313/313 [==============================] - 26s 84ms/step - loss: 0.4145 - accuracy: 0.8085 - val_loss: 0.4368 - val_accuracy: 0.7970\n",
            "Epoch 42/100\n",
            "313/313 [==============================] - 26s 84ms/step - loss: 0.4135 - accuracy: 0.8110 - val_loss: 0.4337 - val_accuracy: 0.7980\n",
            "Epoch 43/100\n",
            "313/313 [==============================] - 26s 84ms/step - loss: 0.4150 - accuracy: 0.8105 - val_loss: 0.4338 - val_accuracy: 0.8012\n"
          ]
        }
      ]
    },
    {
      "cell_type": "code",
      "source": [
        "plt.plot(history.history['loss'])\n",
        "plt.plot(history.history['val_loss'])\n",
        "plt.xlabel('epoch')\n",
        "plt.ylabel('loss')\n",
        "plt.legend(['train', 'val'])\n",
        "plt.show()"
      ],
      "metadata": {
        "colab": {
          "base_uri": "https://localhost:8080/",
          "height": 279
        },
        "id": "tBOTJRRVKmLq",
        "outputId": "853f7062-bf39-481d-f5eb-d82d925911c3"
      },
      "execution_count": 11,
      "outputs": [
        {
          "output_type": "display_data",
          "data": {
            "text/plain": [
              "<Figure size 432x288 with 1 Axes>"
            ],
            "image/png": "[encoded data removed]"
          },
          "metadata": {
            "needs_background": "light"
          }
        }
      ]
    },
    {
      "cell_type": "markdown",
      "source": [
        "\n",
        "GRU 신경망 훈련하기"
      ],
      "metadata": {
        "id": "JX83Y-52Ko-v"
      }
    },
    {
      "cell_type": "code",
      "source": [
        "model4 = keras.Sequential()\n",
        "\n",
        "model4.add(keras.layers.Embedding(500, 16, input_length=100))\n",
        "model4.add(keras.layers.GRU(8))\n",
        "model4.add(keras.layers.Dense(1, activation='sigmoid'))\n",
        "\n",
        "model4.summary()"
      ],
      "metadata": {
        "id": "KK3nqt0PKnzw"
      },
      "execution_count": null,
      "outputs": []
    },
    {
      "cell_type": "code",
      "source": [
        "rmsprop = keras.optimizers.RMSprop(learning_rate=1e-4)\n",
        "model4.compile(optimizer=rmsprop, loss='binary_crossentropy', \n",
        "               metrics=['accuracy'])\n",
        "\n",
        "checkpoint_cb = keras.callbacks.ModelCheckpoint('best-gru-model.h5', \n",
        "                                                save_best_only=True)\n",
        "early_stopping_cb = keras.callbacks.EarlyStopping(patience=3,\n",
        "                                                  restore_best_weights=True)\n",
        "\n",
        "history = model4.fit(train_seq, train_target, epochs=100, batch_size=64,\n",
        "                     validation_data=(val_seq, val_target),\n",
        "                     callbacks=[checkpoint_cb, early_stopping_cb])"
      ],
      "metadata": {
        "colab": {
          "base_uri": "https://localhost:8080/"
        },
        "id": "A47Jap4zKqhS",
        "outputId": "c39f4144-fbd2-4191-d769-c85fc80e5348"
      },
      "execution_count": 13,
      "outputs": [
        {
          "output_type": "stream",
          "name": "stdout",
          "text": [
            "Epoch 1/100\n",
            "313/313 [==============================] - 17s 47ms/step - loss: 0.6921 - accuracy: 0.5321 - val_loss: 0.6909 - val_accuracy: 0.5540\n",
            "Epoch 2/100\n",
            "313/313 [==============================] - 14s 45ms/step - loss: 0.6893 - accuracy: 0.5746 - val_loss: 0.6880 - val_accuracy: 0.5802\n",
            "Epoch 3/100\n",
            "313/313 [==============================] - 14s 45ms/step - loss: 0.6850 - accuracy: 0.5994 - val_loss: 0.6829 - val_accuracy: 0.5950\n",
            "Epoch 4/100\n",
            "313/313 [==============================] - 14s 45ms/step - loss: 0.6778 - accuracy: 0.6201 - val_loss: 0.6745 - val_accuracy: 0.6144\n",
            "Epoch 5/100\n",
            "313/313 [==============================] - 14s 46ms/step - loss: 0.6658 - accuracy: 0.6357 - val_loss: 0.6611 - val_accuracy: 0.6332\n",
            "Epoch 6/100\n",
            "313/313 [==============================] - 14s 46ms/step - loss: 0.6461 - accuracy: 0.6576 - val_loss: 0.6365 - val_accuracy: 0.6600\n",
            "Epoch 7/100\n",
            "313/313 [==============================] - 14s 46ms/step - loss: 0.6051 - accuracy: 0.6849 - val_loss: 0.5844 - val_accuracy: 0.7006\n",
            "Epoch 8/100\n",
            "313/313 [==============================] - 14s 45ms/step - loss: 0.5548 - accuracy: 0.7210 - val_loss: 0.5532 - val_accuracy: 0.7276\n",
            "Epoch 9/100\n",
            "313/313 [==============================] - 14s 46ms/step - loss: 0.5320 - accuracy: 0.7399 - val_loss: 0.5364 - val_accuracy: 0.7404\n",
            "Epoch 10/100\n",
            "313/313 [==============================] - 14s 45ms/step - loss: 0.5168 - accuracy: 0.7510 - val_loss: 0.5253 - val_accuracy: 0.7476\n",
            "Epoch 11/100\n",
            "313/313 [==============================] - 14s 45ms/step - loss: 0.5047 - accuracy: 0.7599 - val_loss: 0.5147 - val_accuracy: 0.7556\n",
            "Epoch 12/100\n",
            "313/313 [==============================] - 14s 45ms/step - loss: 0.4957 - accuracy: 0.7656 - val_loss: 0.5069 - val_accuracy: 0.7620\n",
            "Epoch 13/100\n",
            "313/313 [==============================] - 14s 46ms/step - loss: 0.4881 - accuracy: 0.7703 - val_loss: 0.5013 - val_accuracy: 0.7622\n",
            "Epoch 14/100\n",
            "313/313 [==============================] - 14s 46ms/step - loss: 0.4815 - accuracy: 0.7744 - val_loss: 0.4979 - val_accuracy: 0.7608\n",
            "Epoch 15/100\n",
            "313/313 [==============================] - 14s 46ms/step - loss: 0.4758 - accuracy: 0.7785 - val_loss: 0.4910 - val_accuracy: 0.7718\n",
            "Epoch 16/100\n",
            "313/313 [==============================] - 14s 45ms/step - loss: 0.4705 - accuracy: 0.7804 - val_loss: 0.4871 - val_accuracy: 0.7718\n",
            "Epoch 17/100\n",
            "313/313 [==============================] - 14s 45ms/step - loss: 0.4657 - accuracy: 0.7851 - val_loss: 0.4839 - val_accuracy: 0.7726\n",
            "Epoch 18/100\n",
            "313/313 [==============================] - 14s 46ms/step - loss: 0.4618 - accuracy: 0.7857 - val_loss: 0.4811 - val_accuracy: 0.7724\n",
            "Epoch 19/100\n",
            "313/313 [==============================] - 14s 46ms/step - loss: 0.4580 - accuracy: 0.7891 - val_loss: 0.4853 - val_accuracy: 0.7768\n",
            "Epoch 20/100\n",
            "313/313 [==============================] - 14s 46ms/step - loss: 0.4549 - accuracy: 0.7898 - val_loss: 0.4745 - val_accuracy: 0.7756\n",
            "Epoch 21/100\n",
            "313/313 [==============================] - 14s 46ms/step - loss: 0.4521 - accuracy: 0.7924 - val_loss: 0.4726 - val_accuracy: 0.7754\n",
            "Epoch 22/100\n",
            "313/313 [==============================] - 14s 46ms/step - loss: 0.4486 - accuracy: 0.7953 - val_loss: 0.4702 - val_accuracy: 0.7752\n",
            "Epoch 23/100\n",
            "313/313 [==============================] - 14s 46ms/step - loss: 0.4459 - accuracy: 0.7962 - val_loss: 0.4678 - val_accuracy: 0.7860\n",
            "Epoch 24/100\n",
            "313/313 [==============================] - 14s 46ms/step - loss: 0.4435 - accuracy: 0.7986 - val_loss: 0.4646 - val_accuracy: 0.7844\n",
            "Epoch 25/100\n",
            "313/313 [==============================] - 14s 45ms/step - loss: 0.4413 - accuracy: 0.8002 - val_loss: 0.4617 - val_accuracy: 0.7830\n",
            "Epoch 26/100\n",
            "313/313 [==============================] - 14s 45ms/step - loss: 0.4387 - accuracy: 0.8020 - val_loss: 0.4600 - val_accuracy: 0.7834\n",
            "Epoch 27/100\n",
            "313/313 [==============================] - 14s 46ms/step - loss: 0.4365 - accuracy: 0.8041 - val_loss: 0.4598 - val_accuracy: 0.7816\n",
            "Epoch 28/100\n",
            "313/313 [==============================] - 14s 46ms/step - loss: 0.4341 - accuracy: 0.8049 - val_loss: 0.4564 - val_accuracy: 0.7894\n",
            "Epoch 29/100\n",
            "313/313 [==============================] - 15s 47ms/step - loss: 0.4326 - accuracy: 0.8044 - val_loss: 0.4585 - val_accuracy: 0.7898\n",
            "Epoch 30/100\n",
            "313/313 [==============================] - 15s 49ms/step - loss: 0.4308 - accuracy: 0.8062 - val_loss: 0.4525 - val_accuracy: 0.7908\n",
            "Epoch 31/100\n",
            "313/313 [==============================] - 14s 46ms/step - loss: 0.4291 - accuracy: 0.8070 - val_loss: 0.4519 - val_accuracy: 0.7894\n",
            "Epoch 32/100\n",
            "313/313 [==============================] - 14s 46ms/step - loss: 0.4276 - accuracy: 0.8070 - val_loss: 0.4498 - val_accuracy: 0.7914\n",
            "Epoch 33/100\n",
            "313/313 [==============================] - 14s 46ms/step - loss: 0.4259 - accuracy: 0.8099 - val_loss: 0.4517 - val_accuracy: 0.7878\n",
            "Epoch 34/100\n",
            "313/313 [==============================] - 14s 46ms/step - loss: 0.4243 - accuracy: 0.8099 - val_loss: 0.4480 - val_accuracy: 0.7916\n",
            "Epoch 35/100\n",
            "313/313 [==============================] - 14s 46ms/step - loss: 0.4236 - accuracy: 0.8106 - val_loss: 0.4474 - val_accuracy: 0.7914\n",
            "Epoch 36/100\n",
            "313/313 [==============================] - 14s 46ms/step - loss: 0.4223 - accuracy: 0.8124 - val_loss: 0.4463 - val_accuracy: 0.7926\n",
            "Epoch 37/100\n",
            "313/313 [==============================] - 14s 46ms/step - loss: 0.4209 - accuracy: 0.8116 - val_loss: 0.4455 - val_accuracy: 0.7942\n",
            "Epoch 38/100\n",
            "313/313 [==============================] - 14s 46ms/step - loss: 0.4199 - accuracy: 0.8128 - val_loss: 0.4459 - val_accuracy: 0.7888\n",
            "Epoch 39/100\n",
            "313/313 [==============================] - 14s 46ms/step - loss: 0.4193 - accuracy: 0.8134 - val_loss: 0.4449 - val_accuracy: 0.7924\n",
            "Epoch 40/100\n",
            "313/313 [==============================] - 14s 46ms/step - loss: 0.4180 - accuracy: 0.8144 - val_loss: 0.4439 - val_accuracy: 0.7932\n",
            "Epoch 41/100\n",
            "313/313 [==============================] - 14s 46ms/step - loss: 0.4179 - accuracy: 0.8146 - val_loss: 0.4461 - val_accuracy: 0.7966\n",
            "Epoch 42/100\n",
            "313/313 [==============================] - 14s 46ms/step - loss: 0.4169 - accuracy: 0.8148 - val_loss: 0.4454 - val_accuracy: 0.7962\n",
            "Epoch 43/100\n",
            "313/313 [==============================] - 14s 46ms/step - loss: 0.4159 - accuracy: 0.8155 - val_loss: 0.4434 - val_accuracy: 0.7980\n",
            "Epoch 44/100\n",
            "313/313 [==============================] - 14s 46ms/step - loss: 0.4155 - accuracy: 0.8144 - val_loss: 0.4457 - val_accuracy: 0.7878\n",
            "Epoch 45/100\n",
            "313/313 [==============================] - 15s 48ms/step - loss: 0.4145 - accuracy: 0.8142 - val_loss: 0.4413 - val_accuracy: 0.7926\n",
            "Epoch 46/100\n",
            "313/313 [==============================] - 14s 46ms/step - loss: 0.4141 - accuracy: 0.8159 - val_loss: 0.4416 - val_accuracy: 0.7932\n",
            "Epoch 47/100\n",
            "313/313 [==============================] - 14s 46ms/step - loss: 0.4135 - accuracy: 0.8155 - val_loss: 0.4430 - val_accuracy: 0.7910\n",
            "Epoch 48/100\n",
            "313/313 [==============================] - 14s 46ms/step - loss: 0.4130 - accuracy: 0.8170 - val_loss: 0.4412 - val_accuracy: 0.7928\n",
            "Epoch 49/100\n",
            "313/313 [==============================] - 14s 46ms/step - loss: 0.4126 - accuracy: 0.8147 - val_loss: 0.4398 - val_accuracy: 0.7962\n",
            "Epoch 50/100\n",
            "313/313 [==============================] - 14s 46ms/step - loss: 0.4117 - accuracy: 0.8173 - val_loss: 0.4391 - val_accuracy: 0.7974\n",
            "Epoch 51/100\n",
            "313/313 [==============================] - 14s 45ms/step - loss: 0.4112 - accuracy: 0.8157 - val_loss: 0.4393 - val_accuracy: 0.7938\n",
            "Epoch 52/100\n",
            "313/313 [==============================] - 14s 46ms/step - loss: 0.4108 - accuracy: 0.8174 - val_loss: 0.4386 - val_accuracy: 0.7972\n",
            "Epoch 53/100\n",
            "313/313 [==============================] - 15s 46ms/step - loss: 0.4104 - accuracy: 0.8171 - val_loss: 0.4385 - val_accuracy: 0.7960\n",
            "Epoch 54/100\n",
            "313/313 [==============================] - 14s 46ms/step - loss: 0.4102 - accuracy: 0.8179 - val_loss: 0.4375 - val_accuracy: 0.7978\n",
            "Epoch 55/100\n",
            "313/313 [==============================] - 15s 48ms/step - loss: 0.4096 - accuracy: 0.8173 - val_loss: 0.4386 - val_accuracy: 0.7954\n",
            "Epoch 56/100\n",
            "313/313 [==============================] - 14s 46ms/step - loss: 0.4092 - accuracy: 0.8173 - val_loss: 0.4369 - val_accuracy: 0.7976\n",
            "Epoch 57/100\n",
            "313/313 [==============================] - 14s 46ms/step - loss: 0.4086 - accuracy: 0.8181 - val_loss: 0.4362 - val_accuracy: 0.7980\n",
            "Epoch 58/100\n",
            "313/313 [==============================] - 14s 46ms/step - loss: 0.4080 - accuracy: 0.8174 - val_loss: 0.4359 - val_accuracy: 0.7992\n",
            "Epoch 59/100\n",
            "313/313 [==============================] - 14s 46ms/step - loss: 0.4078 - accuracy: 0.8180 - val_loss: 0.4356 - val_accuracy: 0.7998\n",
            "Epoch 60/100\n",
            "313/313 [==============================] - 14s 46ms/step - loss: 0.4074 - accuracy: 0.8192 - val_loss: 0.4350 - val_accuracy: 0.7978\n",
            "Epoch 61/100\n",
            "313/313 [==============================] - 14s 46ms/step - loss: 0.4070 - accuracy: 0.8178 - val_loss: 0.4344 - val_accuracy: 0.7986\n",
            "Epoch 62/100\n",
            "313/313 [==============================] - 14s 46ms/step - loss: 0.4065 - accuracy: 0.8177 - val_loss: 0.4346 - val_accuracy: 0.7974\n",
            "Epoch 63/100\n",
            "313/313 [==============================] - 14s 45ms/step - loss: 0.4062 - accuracy: 0.8188 - val_loss: 0.4344 - val_accuracy: 0.7972\n",
            "Epoch 64/100\n",
            "313/313 [==============================] - 14s 46ms/step - loss: 0.4057 - accuracy: 0.8180 - val_loss: 0.4338 - val_accuracy: 0.7972\n",
            "Epoch 65/100\n",
            "313/313 [==============================] - 15s 47ms/step - loss: 0.4053 - accuracy: 0.8178 - val_loss: 0.4441 - val_accuracy: 0.7884\n",
            "Epoch 66/100\n",
            "313/313 [==============================] - 15s 47ms/step - loss: 0.4053 - accuracy: 0.8170 - val_loss: 0.4351 - val_accuracy: 0.7964\n",
            "Epoch 67/100\n",
            "313/313 [==============================] - 15s 46ms/step - loss: 0.4043 - accuracy: 0.8191 - val_loss: 0.4321 - val_accuracy: 0.7996\n",
            "Epoch 68/100\n",
            "313/313 [==============================] - 14s 46ms/step - loss: 0.4041 - accuracy: 0.8192 - val_loss: 0.4358 - val_accuracy: 0.7964\n",
            "Epoch 69/100\n",
            "313/313 [==============================] - 14s 46ms/step - loss: 0.4033 - accuracy: 0.8194 - val_loss: 0.4342 - val_accuracy: 0.7986\n",
            "Epoch 70/100\n",
            "313/313 [==============================] - 14s 46ms/step - loss: 0.4031 - accuracy: 0.8196 - val_loss: 0.4312 - val_accuracy: 0.8012\n",
            "Epoch 71/100\n",
            "313/313 [==============================] - 14s 46ms/step - loss: 0.4032 - accuracy: 0.8187 - val_loss: 0.4325 - val_accuracy: 0.8012\n",
            "Epoch 72/100\n",
            "313/313 [==============================] - 15s 46ms/step - loss: 0.4024 - accuracy: 0.8194 - val_loss: 0.4312 - val_accuracy: 0.8000\n",
            "Epoch 73/100\n",
            "313/313 [==============================] - 15s 46ms/step - loss: 0.4023 - accuracy: 0.8198 - val_loss: 0.4329 - val_accuracy: 0.7996\n"
          ]
        }
      ]
    },
    {
      "cell_type": "code",
      "source": [
        "plt.plot(history.history['loss'])\n",
        "plt.plot(history.history['val_loss'])\n",
        "plt.xlabel('epoch')\n",
        "plt.ylabel('loss')\n",
        "plt.legend(['train', 'val'])\n",
        "plt.show()"
      ],
      "metadata": {
        "id": "VEieQQlRKrqB"
      },
      "execution_count": null,
      "outputs": []
    },
    {
      "cell_type": "code",
      "source": [
        "test_seq = pad_sequences(test_input, maxlen=100)\n",
        "\n",
        "rnn_model = keras.models.load_model('best-2rnn-model.h5')\n",
        "\n",
        "rnn_model.evaluate(test_seq, test_target)"
      ],
      "metadata": {
        "colab": {
          "base_uri": "https://localhost:8080/"
        },
        "id": "nDDN2Am5KtJe",
        "outputId": "4f31eead-7dc7-4a03-d001-3f94a48d2396"
      },
      "execution_count": 15,
      "outputs": [
        {
          "metadata": {
            "tags": null
          },
          "name": "stdout",
          "output_type": "stream",
          "text": [
            "782/782 [==============================] - 12s 14ms/step - loss: 0.4264 - accuracy: 0.8010\n"
          ]
        },
        {
          "data": {
            "text/plain": [
              "[0.42641255259513855, 0.8009600043296814]"
            ]
          },
          "execution_count": null,
          "metadata": {},
          "output_type": "execute_result"
        }
      ]
    },
    {
      "cell_type": "code",
      "source": [
        ""
      ],
      "metadata": {
        "id": "dWBtXXbdKukg"
      },
      "execution_count": null,
      "outputs": []
    }
  ]
}